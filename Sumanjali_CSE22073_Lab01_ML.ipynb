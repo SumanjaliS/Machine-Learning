{
 "cells": [
  {
   "cell_type": "code",
   "execution_count": 1,
   "id": "b5620de5-9497-4826-9467-b248a36f98d4",
   "metadata": {},
   "outputs": [
    {
     "name": "stdout",
     "output_type": "stream",
     "text": [
      "Number of pairs with sum 10: 2\n"
     ]
    }
   ],
   "source": [
    "#Consider given list as [2,7,4,1,3,6]. Write prgm to count pairs of element with sum equal to 10.\n",
    "def count_for_sum_10(list, key):\n",
    "    count = 0\n",
    "    n = len(list)\n",
    "   \n",
    "   \n",
    "    for i in range(n):\n",
    "        for j in range(i + 1, n):\n",
    "            if list[i] + list[j] == key:\n",
    "                count += 1\n",
    "               \n",
    "    print(f\"Number of pairs with sum {key}: {count}\")\n",
    "\n",
    "\n",
    "numbers = [2, 7, 4, 1, 3, 6]\n",
    "\n",
    "\n",
    "key = 10\n",
    "\n",
    "\n",
    "count_for_sum_10(numbers, key)"
   ]
  },
  {
   "cell_type": "code",
   "execution_count": 2,
   "id": "e838b75e-48d2-43f9-9cf8-7c1d0c724183",
   "metadata": {},
   "outputs": [
    {
     "name": "stdin",
     "output_type": "stream",
     "text": [
      "Enter a list of real numbers separated by spaces:  145 78 45 1478 8\n"
     ]
    },
    {
     "name": "stdout",
     "output_type": "stream",
     "text": [
      "1470.0\n"
     ]
    }
   ],
   "source": [
    "def calculate_range(numbers):\n",
    "    if len(numbers) < 3:\n",
    "        return \"Range determination not possible.\"\n",
    "   \n",
    "    # Calculate the range\n",
    "    min_value = min(numbers)\n",
    "    max_value = max(numbers)145 58 7\n",
    "    range_value = max_value - min_value\n",
    "   \n",
    "    return range_value\n",
    "\n",
    "# Get user input\n",
    "user_input = input(\"Enter a list of real numbers separated by spaces: \")\n",
    "\n",
    "# Convert the input string into a list of floats\n",
    "try:\n",
    "    numbers = list(map(float, user_input.split()))\n",
    "except ValueError:\n",
    "    result = \"Invalid input. Please enter valid numbers.\"\n",
    "else:\n",
    "    # Calculate the range\n",
    "    result = calculate_range(numbers)\n",
    "\n",
    "# Print the result\n",
    "print(result)\n"
   ]
  },
  {
   "cell_type": "code",
   "execution_count": 4,
   "id": "d3bd6b8f-1b3e-4d53-af88-a91bb27c478e",
   "metadata": {},
   "outputs": [
    {
     "name": "stdin",
     "output_type": "stream",
     "text": [
      "Enter the size of the square matrix:  2\n"
     ]
    },
    {
     "name": "stdout",
     "output_type": "stream",
     "text": [
      "Enter the matrix row by row (each row having 2 elements separated by spaces):\n"
     ]
    },
    {
     "name": "stdin",
     "output_type": "stream",
     "text": [
      " 45 78\n",
      " 4 7\n",
      "Enter the exponent:  2\n"
     ]
    },
    {
     "name": "stdout",
     "output_type": "stream",
     "text": [
      "Resulting matrix:\n",
      "2337 4056\n",
      "208 361\n"
     ]
    }
   ],
   "source": [
    "def matrix_mul(A, P):\n",
    "    n = len(A)\n",
    "    C = [[0] * n for _ in range(n)]\n",
    "    for i in range(n):\n",
    "        for j in range(n):\n",
    "            for k in range(n):\n",
    "                C[i][j] += A[i][k] * P[k][j]\n",
    "    return C\n",
    "\n",
    "def matrix_power(A, m):\n",
    "    n = len(A)\n",
    "    res = [[1 if i == j else 0 for j in range(n)] for i in range(n)]\n",
    "    base = A\n",
    "\n",
    "    while m > 0:\n",
    "        if m % 2 == 1:\n",
    "            res = matrix_mul(res, base)\n",
    "        base = matrix_mul(base, base)\n",
    "        m //= 2\n",
    "\n",
    "    return res\n",
    "\n",
    "# Input matrix size\n",
    "size = int(input(\"Enter the size of the square matrix: \"))\n",
    "\n",
    "# Input matrix\n",
    "print(\"Enter the matrix row by row (each row having {} elements separated by spaces):\".format(size))\n",
    "A = []\n",
    "for i in range(size):\n",
    "    row = list(map(int, input().split()))\n",
    "    A.append(row)\n",
    "\n",
    "# Input exponent\n",
    "m = int(input(\"Enter the exponent: \"))\n",
    "\n",
    "# Calculate the power of the matrix\n",
    "res = matrix_power(A, m)\n",
    "\n",
    "# Print the result\n",
    "print(\"Resulting matrix:\")\n",
    "for row in res:\n",
    "    print(' '.join(map(str, row)))\n"
   ]
  },
  {
   "cell_type": "code",
   "execution_count": 5,
   "id": "1e5578ea-5dce-4303-9aab-42d1f0068cbf",
   "metadata": {},
   "outputs": [
    {
     "name": "stdin",
     "output_type": "stream",
     "text": [
      "Enter a string:  SUMANnjali\n"
     ]
    },
    {
     "name": "stdout",
     "output_type": "stream",
     "text": [
      "The character with the maximum occurrence is 'S' with 1 occurrences.\n"
     ]
    }
   ],
   "source": [
    "def highest_occurrence_char(s):\n",
    "    char_count = {}\n",
    "    max_count = 0\n",
    "    max_char = None\n",
    "\n",
    "    for char in s:\n",
    "        if char != ' ':\n",
    "            char_count[char] = char_count.get(char, 0) + 1\n",
    "            if char_count[char] > max_count:\n",
    "                max_count = char_count[char]\n",
    "                max_char = char\n",
    "\n",
    "    print(f\"The character with the maximum occurrence is '{max_char}' with {max_count} occurrences.\")\n",
    "\n",
    "s = input(\"Enter a string: \")\n",
    "highest_occurrence_char(s)\n"
   ]
  },
  {
   "cell_type": "code",
   "execution_count": null,
   "id": "d7011d65-e427-404f-96e3-4312eed1cded",
   "metadata": {},
   "outputs": [],
   "source": []
  }
 ],
 "metadata": {
  "kernelspec": {
   "display_name": "Python 3 (ipykernel)",
   "language": "python",
   "name": "python3"
  },
  "language_info": {
   "codemirror_mode": {
    "name": "ipython",
    "version": 3
   },
   "file_extension": ".py",
   "mimetype": "text/x-python",
   "name": "python",
   "nbconvert_exporter": "python",
   "pygments_lexer": "ipython3",
   "version": "3.11.7"
  }
 },
 "nbformat": 4,
 "nbformat_minor": 5
}
